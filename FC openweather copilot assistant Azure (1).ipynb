{
 "cells": [
  {
   "cell_type": "code",
   "execution_count": 1,
   "id": "894ac877-31fc-41f2-a2ce-bbd4cc17875b",
   "metadata": {
    "tags": []
   },
   "outputs": [
    {
     "name": "stdout",
     "output_type": "stream",
     "text": [
      "Overwriting aoai.env\n"
     ]
    }
   ],
   "source": []
  },
  {
   "cell_type": "code",
   "execution_count": 10,
   "id": "718252aa-2e6e-4ffd-b15d-7e5b0d543115",
   "metadata": {
    "tags": []
   },
   "outputs": [
    {
     "name": "stdout",
     "output_type": "stream",
     "text": [
      "Requirement already satisfied: openai in /usr/local/lib/python3.11/dist-packages (1.86.0)\n",
      "Requirement already satisfied: anyio<5,>=3.5.0 in /usr/local/lib/python3.11/dist-packages (from openai) (4.2.0)\n",
      "Requirement already satisfied: distro<2,>=1.7.0 in /usr/lib/python3/dist-packages (from openai) (1.7.0)\n",
      "Requirement already satisfied: httpx<1,>=0.23.0 in /usr/local/lib/python3.11/dist-packages (from openai) (0.28.1)\n",
      "Requirement already satisfied: jiter<1,>=0.4.0 in /usr/local/lib/python3.11/dist-packages (from openai) (0.10.0)\n",
      "Requirement already satisfied: pydantic<3,>=1.9.0 in /usr/local/lib/python3.11/dist-packages (from openai) (1.10.14)\n",
      "Requirement already satisfied: sniffio in /usr/local/lib/python3.11/dist-packages (from openai) (1.3.0)\n",
      "Requirement already satisfied: tqdm>4 in /usr/local/lib/python3.11/dist-packages (from openai) (4.66.1)\n",
      "Requirement already satisfied: typing-extensions<5,>=4.11 in /usr/local/lib/python3.11/dist-packages (from openai) (4.14.0)\n",
      "Requirement already satisfied: idna>=2.8 in /usr/lib/python3/dist-packages (from anyio<5,>=3.5.0->openai) (3.3)\n",
      "Requirement already satisfied: certifi in /usr/lib/python3/dist-packages (from httpx<1,>=0.23.0->openai) (2020.6.20)\n",
      "Requirement already satisfied: httpcore==1.* in /usr/local/lib/python3.11/dist-packages (from httpx<1,>=0.23.0->openai) (1.0.9)\n",
      "Requirement already satisfied: h11>=0.16 in /usr/local/lib/python3.11/dist-packages (from httpcore==1.*->httpx<1,>=0.23.0->openai) (0.16.0)\n",
      "\u001b[33mWARNING: Running pip as the 'root' user can result in broken permissions and conflicting behaviour with the system package manager. It is recommended to use a virtual environment instead: https://pip.pypa.io/warnings/venv\u001b[0m\u001b[33m\n",
      "\u001b[0mRequirement already satisfied: load_dotenv in /usr/local/lib/python3.11/dist-packages (0.1.0)\n",
      "\u001b[31mERROR: Could not find a version that satisfies the requirement os (from versions: none)\u001b[0m\u001b[31m\n",
      "\u001b[0m\u001b[31mERROR: No matching distribution found for os\u001b[0m\u001b[31m\n",
      "\u001b[0m"
     ]
    }
   ],
   "source": [
    "!pip install --upgrade openai\n",
    "!pip install --upgrade load_dotenv os"
   ]
  },
  {
   "cell_type": "code",
   "execution_count": 1,
   "id": "aba714f1-acc3-4b51-8fc1-d517c57e1a19",
   "metadata": {
    "tags": []
   },
   "outputs": [],
   "source": [
    "from openai import AzureOpenAI\n",
    "from dotenv import load_dotenv\n",
    "import os \n",
    "load_dotenv('aoai.env')\n",
    "azure_endpoint=os.getenv(\"AZURE_OPENAI_ENDPOINT\")"
   ]
  },
  {
   "cell_type": "code",
   "execution_count": 2,
   "id": "4d9b958a-006f-4cbf-95b5-60b6a95e9310",
   "metadata": {
    "tags": []
   },
   "outputs": [],
   "source": [
    "import json \n",
    "import requests\n",
    "import time\n",
    "from openai import AzureOpenAI\n",
    "client=AzureOpenAI(\n",
    "    azure_endpoint=os.getenv(\"AZURE_OPENAI_ENDPOINT\"),\n",
    "    api_key=os.getenv(\"AZURE_OPENAI_API_KEY\"),\n",
    "    api_version=\"2024-12-01-preview\"\n",
    ")"
   ]
  },
  {
   "cell_type": "code",
   "execution_count": 3,
   "id": "49c570d2-6c7a-42fc-bcfd-afdd530fa251",
   "metadata": {
    "tags": []
   },
   "outputs": [
    {
     "data": {
      "text/plain": [
       "'ddff3937d1ab0f0f5722e3d0ed5eef8b'"
      ]
     },
     "execution_count": 3,
     "metadata": {},
     "output_type": "execute_result"
    }
   ],
   "source": [
    "load_dotenv('aoai.env')\n",
    "\n",
    "api_key = os.getenv(\"OPENWEATHERMAP_API_KEY\") \n",
    "api_key"
   ]
  },
  {
   "cell_type": "code",
   "execution_count": 4,
   "id": "0e3dfaf3-37d6-4c05-8187-31012625aa46",
   "metadata": {
    "tags": []
   },
   "outputs": [],
   "source": [
    "#def function for get weather\n",
    "\n",
    "import requests\n",
    "\n",
    "def get_weather(country) -> dict:\n",
    "    \"\"\"\n",
    "    Fetch weather from OpenWeatherMap using latitude and longitude.\n",
    "\n",
    "    Args:\n",
    "        latitude (float): Latitude of the location.\n",
    "        longitude (float): Longitude of the location.\n",
    "        units (str): Units ('standard', 'metric', or 'imperial').\n",
    "\n",
    "    Returns:\n",
    "        dict: Weather summary.\n",
    "    \"\"\"\n",
    "    api_key = os.getenv(\"OPENWEATHERMAP_API_KEY\")  # Replace with your actual key\n",
    "\n",
    "    params = {\n",
    "        'country': country,\n",
    "        'appid': api_key\n",
    "    }\n",
    "    url = f\"https://api.openweathermap.org/data/2.5/weather?q={params['country']}&appid={params['appid']}\"\n",
    "\n",
    "\n",
    "    response = requests.get(url)\n",
    "    if response.status_code == 200:\n",
    "        data = response.json()\n",
    "        return {\n",
    "            \n",
    "            \"weather_condition\": data['weather'][0]['description'],\n",
    "            \"temp\": data['main']['feels_like'],\n",
    "            \n",
    "        }\n",
    "    else:\n",
    "        return {\n",
    "            \"error\": f\"Weather request failed: {response.status_code} - {response.text}\"\n",
    "        }\n"
   ]
  },
  {
   "cell_type": "code",
   "execution_count": 5,
   "id": "cb6f3df7-4e25-4293-89c2-d5c65ff85b04",
   "metadata": {
    "tags": []
   },
   "outputs": [
    {
     "data": {
      "text/plain": [
       "{'weather_condition': 'overcast clouds', 'temp': 299.44}"
      ]
     },
     "execution_count": 5,
     "metadata": {},
     "output_type": "execute_result"
    }
   ],
   "source": [
    "get_weather('pakistan')"
   ]
  },
  {
   "cell_type": "code",
   "execution_count": 6,
   "id": "409684b8-1d8e-4194-be3d-990682e78c77",
   "metadata": {
    "tags": []
   },
   "outputs": [],
   "source": [
    " #Define the tools list with the functions the assistant can use\n",
    "tools_list = [{\n",
    "    \"type\": \"function\",\n",
    "    \"function\": {\n",
    "        \"name\": \"get_weather\",\n",
    "        \"description\": \"Get the weather condition using country name. If any argument is missing in the user message, assume it as 'null' and not zero (0) or don't return missing argument value yourself\",\n",
    "        \"parameters\": {\n",
    "            \"type\": \"object\",\n",
    "            \"properties\": {\n",
    "                \"country\": {\n",
    "                    \"type\": \"string\",\n",
    "                    \"description\": \"Name of country or city\"\n",
    "                }\n",
    "            },\n",
    "            \"required\": [\"country\"]\n",
    "        }\n",
    "    }\n",
    "}]\n"
   ]
  },
  {
   "cell_type": "code",
   "execution_count": 7,
   "id": "1648e251-ae89-4eda-b860-81cfb49f5760",
   "metadata": {
    "tags": []
   },
   "outputs": [
    {
     "name": "stderr",
     "output_type": "stream",
     "text": [
      "/tmp/ipykernel_1413/3564978942.py:7: DeprecationWarning: The Assistants API is deprecated in favor of the Responses API\n",
      "  thread=client.beta.threads.create() #create conversation thread\n"
     ]
    }
   ],
   "source": [
    "assistant=client.beta.assistants.create(\n",
    "    name='weather assistant',\n",
    "    instructions='you are a weather bot that provides weather information in real time',\n",
    "    tools=tools_list,\n",
    "    model='o3-mini'\n",
    ")\n",
    "thread=client.beta.threads.create() #create conversation thread"
   ]
  },
  {
   "cell_type": "code",
   "execution_count": 8,
   "id": "b6ce43db-6433-4254-b47a-38f7fdd78556",
   "metadata": {
    "tags": []
   },
   "outputs": [],
   "source": [
    "import time\n",
    "import json\n",
    "\n",
    "def run_conversation(user_message):\n",
    "    message = client.beta.threads.messages.create(\n",
    "        thread_id=thread.id,\n",
    "        role=\"user\",\n",
    "        content=user_message\n",
    "    )\n",
    "\n",
    "    run = client.beta.threads.runs.create(\n",
    "        thread_id=thread.id,\n",
    "        assistant_id=assistant.id\n",
    "    )\n",
    "\n",
    "    while True:\n",
    "        time.sleep(5)\n",
    "        run_status = client.beta.threads.runs.retrieve(\n",
    "            thread_id=thread.id,\n",
    "            run_id=run.id\n",
    "        )\n",
    "\n",
    "        if run_status.status == \"completed\":\n",
    "            messages = client.beta.threads.messages.list(\n",
    "                thread_id=thread.id\n",
    "            ).data\n",
    "\n",
    "            last_response = next((msg for msg in messages if msg.role == \"assistant\"), None)\n",
    "            if last_response:\n",
    "                assistant_message_content = last_response.content[0].text.value\n",
    "                print(assistant_message_content)\n",
    "            break\n",
    "\n",
    "        elif run_status.status == \"requires_action\":\n",
    "            required_actions = run_status.required_action.submit_tool_outputs.model_dump()\n",
    "            tool_outputs = []\n",
    "\n",
    "            for action in required_actions['tool_calls']:\n",
    "                func_name = action['function']['name']\n",
    "                arguments = json.loads(action['function']['arguments'])\n",
    "\n",
    "                if func_name == \"get_weather\":\n",
    "                    output = get_weather(country=arguments.get('country'))\n",
    "                    tool_outputs.append({\n",
    "                        \"tool_call_id\": action['id'],\n",
    "                        \"output\": json.dumps(output)\n",
    "                    })\n",
    "                else:\n",
    "                    raise ValueError(f\"Unknown function: {func_name}\")\n",
    "\n",
    "            client.beta.threads.runs.submit_tool_outputs(\n",
    "                thread_id=thread.id,\n",
    "                run_id=run.id,\n",
    "                tool_outputs=tool_outputs\n",
    "            )\n",
    "        else:\n",
    "            print(\"Waiting for assistant to process...\")\n"
   ]
  },
  {
   "cell_type": "code",
   "execution_count": null,
   "id": "0bd9141f-5d45-4da7-980c-1fe555111587",
   "metadata": {
    "tags": []
   },
   "outputs": [
    {
     "name": "stdin",
     "output_type": "stream",
     "text": [
      "Enter your message and type end to stop get me weather for toronto\n"
     ]
    },
    {
     "name": "stderr",
     "output_type": "stream",
     "text": [
      "/tmp/ipykernel_1413/538792259.py:5: DeprecationWarning: The Assistants API is deprecated in favor of the Responses API\n",
      "  message = client.beta.threads.messages.create(\n",
      "/tmp/ipykernel_1413/538792259.py:11: DeprecationWarning: The Assistants API is deprecated in favor of the Responses API\n",
      "  run = client.beta.threads.runs.create(\n",
      "/tmp/ipykernel_1413/538792259.py:18: DeprecationWarning: The Assistants API is deprecated in favor of the Responses API\n",
      "  run_status = client.beta.threads.runs.retrieve(\n",
      "/tmp/ipykernel_1413/538792259.py:51: DeprecationWarning: The Assistants API is deprecated in favor of the Responses API\n",
      "  client.beta.threads.runs.submit_tool_outputs(\n",
      "/tmp/ipykernel_1413/538792259.py:24: DeprecationWarning: The Assistants API is deprecated in favor of the Responses API\n",
      "  messages = client.beta.threads.messages.list(\n"
     ]
    },
    {
     "name": "stdout",
     "output_type": "stream",
     "text": [
      "Currently in Toronto, it's overcast with clouds and the temperature is around 293.97 Kelvin, which is roughly 21°C. Enjoy your day outdoors if you plan to go out!\n"
     ]
    },
    {
     "name": "stdin",
     "output_type": "stream",
     "text": [
      "Enter your message and type end to stop Nice thanks\n"
     ]
    },
    {
     "name": "stdout",
     "output_type": "stream",
     "text": [
      "You're welcome! If you need any more weather updates or additional information, just let me know.\n"
     ]
    },
    {
     "name": "stdin",
     "output_type": "stream",
     "text": [
      "Enter your message and type end to stop Get me whether for New Delhi\n"
     ]
    },
    {
     "name": "stdout",
     "output_type": "stream",
     "text": [
      "Currently in New Delhi, it's experiencing haze conditions. The temperature is around 309.83 Kelvin, which is roughly 36.68°C. Stay safe and keep hydrated if you're heading out!\n"
     ]
    }
   ],
   "source": [
    "while True:\n",
    "    user_message=input(\"Enter your message and type end to stop\")\n",
    "    if user_message.lower()=='end':\n",
    "        print(\"conversation ended\")\n",
    "        break\n",
    "    run_conversation(user_message)"
   ]
  },
  {
   "cell_type": "code",
   "execution_count": null,
   "id": "0b925a58-ff49-4a0c-ab58-2ae80edc5984",
   "metadata": {},
   "outputs": [],
   "source": []
  },
  {
   "cell_type": "code",
   "execution_count": null,
   "id": "231d6043-bbc4-41c6-89e7-d22bccd34e09",
   "metadata": {},
   "outputs": [],
   "source": []
  },
  {
   "cell_type": "code",
   "execution_count": null,
   "id": "a2e8d6af-ac19-463c-aa32-af7c6f09bf5a",
   "metadata": {},
   "outputs": [],
   "source": []
  },
  {
   "cell_type": "code",
   "execution_count": null,
   "id": "39fbefb4-2e49-40b0-a840-fc9a68008a90",
   "metadata": {},
   "outputs": [],
   "source": []
  },
  {
   "cell_type": "code",
   "execution_count": null,
   "id": "39aabb41-2625-463b-ad97-5f61f41c26ac",
   "metadata": {},
   "outputs": [],
   "source": []
  }
 ],
 "metadata": {
  "kernelspec": {
   "display_name": "Python 3 (ipykernel)",
   "language": "python",
   "name": "python3"
  },
  "language_info": {
   "codemirror_mode": {
    "name": "ipython",
    "version": 3
   },
   "file_extension": ".py",
   "mimetype": "text/x-python",
   "name": "python",
   "nbconvert_exporter": "python",
   "pygments_lexer": "ipython3",
   "version": "3.11.7"
  }
 },
 "nbformat": 4,
 "nbformat_minor": 5
}
